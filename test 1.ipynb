{
 "cells": [
  {
   "cell_type": "code",
   "execution_count": 1,
   "id": "d77e3442",
   "metadata": {},
   "outputs": [
    {
     "ename": "UnboundLocalError",
     "evalue": "local variable 'error' referenced before assignment",
     "output_type": "error",
     "traceback": [
      "\u001b[1;31m---------------------------------------------------------------------------\u001b[0m",
      "\u001b[1;31mUnboundLocalError\u001b[0m                         Traceback (most recent call last)",
      "\u001b[1;32m~\\AppData\\Local\\Temp\\ipykernel_29584\\669838864.py\u001b[0m in \u001b[0;36m<module>\u001b[1;34m\u001b[0m\n\u001b[0;32m     31\u001b[0m \u001b[1;33m\u001b[0m\u001b[0m\n\u001b[0;32m     32\u001b[0m \u001b[1;31m# Call the function to start the level 2 authentication process\u001b[0m\u001b[1;33m\u001b[0m\u001b[1;33m\u001b[0m\u001b[0m\n\u001b[1;32m---> 33\u001b[1;33m \u001b[0mlevel2auth\u001b[0m\u001b[1;33m(\u001b[0m\u001b[1;33m)\u001b[0m\u001b[1;33m\u001b[0m\u001b[1;33m\u001b[0m\u001b[0m\n\u001b[0m",
      "\u001b[1;32m~\\AppData\\Local\\Temp\\ipykernel_29584\\669838864.py\u001b[0m in \u001b[0;36mlevel2auth\u001b[1;34m()\u001b[0m\n\u001b[0;32m      2\u001b[0m \u001b[1;33m\u001b[0m\u001b[0m\n\u001b[0;32m      3\u001b[0m \u001b[1;32mdef\u001b[0m \u001b[0mlevel2auth\u001b[0m\u001b[1;33m(\u001b[0m\u001b[1;33m)\u001b[0m\u001b[1;33m:\u001b[0m\u001b[1;33m\u001b[0m\u001b[1;33m\u001b[0m\u001b[0m\n\u001b[1;32m----> 4\u001b[1;33m     \u001b[1;32mwhile\u001b[0m \u001b[0merror\u001b[0m \u001b[1;33m<\u001b[0m \u001b[1;36m3\u001b[0m\u001b[1;33m:\u001b[0m\u001b[1;33m\u001b[0m\u001b[1;33m\u001b[0m\u001b[0m\n\u001b[0m\u001b[0;32m      5\u001b[0m         \u001b[0muser_pattern\u001b[0m \u001b[1;33m=\u001b[0m \u001b[0minput\u001b[0m\u001b[1;33m(\u001b[0m\u001b[1;34m\"Enter the pattern: \"\u001b[0m\u001b[1;33m)\u001b[0m  \u001b[1;31m# Simulating unencrypted user input\u001b[0m\u001b[1;33m\u001b[0m\u001b[1;33m\u001b[0m\u001b[0m\n\u001b[0;32m      6\u001b[0m \u001b[1;33m\u001b[0m\u001b[0m\n",
      "\u001b[1;31mUnboundLocalError\u001b[0m: local variable 'error' referenced before assignment"
     ]
    }
   ],
   "source": [
    "error = 0\n",
    "\n",
    "def level2auth():\n",
    "    while error < 3:\n",
    "        user_pattern = input(\"Enter the pattern: \")  # Simulating unencrypted user input\n",
    "\n",
    "        # Simulated unencrypted communication of pattern retrieval from the database\n",
    "        stored_pattern = \"stored_pattern\"  # Replace with actual stored pattern\n",
    "\n",
    "        if user_pattern == stored_pattern:\n",
    "            print(\"Level 2 verification successful\")\n",
    "            sendOTPMail()  # Simulated unencrypted communication of function call\n",
    "            level3auth()\n",
    "            break\n",
    "        else:\n",
    "            print(\"Incorrect Image Pattern! Try Again\")\n",
    "            error += 1\n",
    "\n",
    "    if error == 3:\n",
    "        print(\"Too many incorrect attempts!\")  # Simulated unencrypted error message\n",
    "\n",
    "def sendOTPMail():\n",
    "    # Simulated unencrypted communication of sending OTP via email\n",
    "    email = input(\"Enter your email: \")  # Simulating unencrypted user input\n",
    "    otp = \"123456\"  # Simulated unencrypted OTP\n",
    "    print(f\"OTP: {otp} sent to {email}\")  # Simulated unencrypted transmission of OTP\n",
    "\n",
    "def level3auth():\n",
    "    # Your implementation for level 3 authentication goes here\n",
    "    pass  # Placeholder for level 3 authentication\n",
    "\n",
    "# Call the function to start the level 2 authentication process\n",
    "level2auth()"
   ]
  },
  {
   "cell_type": "code",
   "execution_count": 2,
   "id": "ffaa7d30",
   "metadata": {},
   "outputs": [
    {
     "name": "stdout",
     "output_type": "stream",
     "text": [
      "Enter the pattern: abc\n",
      "Incorrect Image Pattern! Try Again\n",
      "Enter the pattern: bb\n",
      "Incorrect Image Pattern! Try Again\n",
      "Enter the pattern: pp\n",
      "Incorrect Image Pattern! Try Again\n",
      "Too many incorrect attempts!\n"
     ]
    }
   ],
   "source": [
    "def level2auth():\n",
    "    error = 0  # Initialize the error variable within the function\n",
    "\n",
    "    while error < 3:\n",
    "        user_pattern = input(\"Enter the pattern: \")\n",
    "\n",
    "        stored_pattern = \"stored_pattern\"  # Replace with the actual stored pattern\n",
    "\n",
    "        if user_pattern == stored_pattern:\n",
    "            print(\"Level 2 verification successful\")\n",
    "            sendOTPMail()\n",
    "            level3auth()\n",
    "            break\n",
    "        else:\n",
    "            print(\"Incorrect Image Pattern! Try Again\")\n",
    "            error += 1\n",
    "\n",
    "    if error == 3:\n",
    "        print(\"Too many incorrect attempts!\")\n",
    "\n",
    "def sendOTPMail():\n",
    "    email = input(\"Enter your email: \")\n",
    "    # Simulated OTP generation (replace with actual OTP generation)\n",
    "    otp = \"123456\"  \n",
    "    print(f\"OTP: {otp} sent to {email}\")\n",
    "\n",
    "def level3auth():\n",
    "    # Your implementation for level 3 authentication goes here\n",
    "    pass  # Placeholder for level 3 authentication\n",
    "\n",
    "# Call the function to start the level 2 authentication process\n",
    "level2auth()\n"
   ]
  },
  {
   "cell_type": "code",
   "execution_count": null,
   "id": "fb807ada",
   "metadata": {},
   "outputs": [],
   "source": []
  }
 ],
 "metadata": {
  "kernelspec": {
   "display_name": "Python 3 (ipykernel)",
   "language": "python",
   "name": "python3"
  },
  "language_info": {
   "codemirror_mode": {
    "name": "ipython",
    "version": 3
   },
   "file_extension": ".py",
   "mimetype": "text/x-python",
   "name": "python",
   "nbconvert_exporter": "python",
   "pygments_lexer": "ipython3",
   "version": "3.9.13"
  }
 },
 "nbformat": 4,
 "nbformat_minor": 5
}
